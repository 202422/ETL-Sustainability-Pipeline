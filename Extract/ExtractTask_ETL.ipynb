{
 "cells": [
  {
   "cell_type": "code",
   "execution_count": 38,
   "id": "6c45e948-37b5-45d6-aafe-d672706913fd",
   "metadata": {},
   "outputs": [],
   "source": [
    "import requests\n",
    "import pandas as pd\n",
    "import time\n",
    "from datetime import datetime, timedelta"
   ]
  },
  {
   "cell_type": "code",
   "execution_count": 31,
   "id": "90caf5dc-87c0-4a72-bd71-f6a9917ee4fa",
   "metadata": {},
   "outputs": [],
   "source": [
    "# Configuration\n",
    "API_URL = \"https://api.open-meteo.com/v1/forecast\"\n",
    "LIMIT = 1000  # Nombre maximum d'enregistrements par page\n",
    "TARGET_RECORDS = 20000  # Nombre minimum d'enregistrements à récupérer\n",
    "HOURLY_VARIABLES = [\n",
    "    \"temperature_2m\",\n",
    "    \"relative_humidity_2m\",\n",
    "    \"precipitation\",\n",
    "    \"wind_speed_10m\",\n",
    "    \"weather_code\"\n",
    "]\n",
    "LOCATIONS = [\n",
    "    (48.8566, 2.3522),\n",
    "    (45.7640, 4.8357),\n",
    "    (43.2965, 5.3698),\n",
    "    (44.8378, -0.5792)\n",
    "]\n"
   ]
  },
  {
   "cell_type": "code",
   "execution_count": 127,
   "id": "ebe0343a-eebf-423f-aaf7-a78a25384e23",
   "metadata": {},
   "outputs": [],
   "source": [
    "# Fonction pour récupérer les données\n",
    "def fetch_weather_data(latitude: float, longitude: float) -> pd.DataFrame:\n",
    "    all_data = []\n",
    "    remaining_hours = 3000\n",
    "    end_date = datetime.now()\n",
    "    \n",
    "    while remaining_hours > 0:\n",
    "        # Calcul de la période (max 90 jours par appel API)\n",
    "        chunk_days = min(90, (remaining_hours // 24) + 1)\n",
    "        start_date = end_date - timedelta(days=chunk_days)\n",
    "        \n",
    "        params = {\n",
    "            \"latitude\": latitude,\n",
    "            \"longitude\": longitude,\n",
    "            \"start_date\": start_date.strftime('%Y-%m-%d'),\n",
    "            \"end_date\": end_date.strftime('%Y-%m-%d'),\n",
    "            \"hourly\": \",\".join(HOURLY_VARIABLES),\n",
    "            \"timezone\": \"Europe/Paris\"\n",
    "        }\n",
    "        \n",
    "        try:\n",
    "            response = requests.get(API_URL, params=params, timeout=15)\n",
    "            data = response.json()\n",
    "            chunk_df = pd.DataFrame(data[\"hourly\"])\n",
    "            \n",
    "            # Ajout des métadonnées\n",
    "            chunk_df[\"latitude\"] = latitude\n",
    "            chunk_df[\"longitude\"] = longitude\n",
    "            \n",
    "            all_data.append(chunk_df)\n",
    "            fetched_hours = len(chunk_df)\n",
    "            remaining_hours -= fetched_hours\n",
    "            \n",
    "            print(f\"{fetched_hours} données horaires ajoutées pour {latitude,longitude} (reste {remaining_hours})\")\n",
    "            \n",
    "            # Mise à jour pour la prochaine itération\n",
    "            end_date = start_date - timedelta(days=1)\n",
    "            time.sleep(1)  # Respect des limites de l'API\n",
    "            \n",
    "            if fetched_hours == 0:\n",
    "                break\n",
    "                \n",
    "        except Exception as e:\n",
    "            print(f\"Erreur pour {latitude, longitude}: {str(e)}\")\n",
    "            break\n",
    "\n",
    "    final_df = pd.concat(all_data, ignore_index=True) if all_data else pd.DataFrame()\n",
    "    return final_df.iloc[:3000]  # Retourne exactement le nombre demandé"
   ]
  },
  {
   "cell_type": "code",
   "execution_count": 124,
   "id": "7f171179-815c-49ce-b5ca-04e938246a33",
   "metadata": {},
   "outputs": [],
   "source": [
    "def collect_all_locations() -> pd.DataFrame:\n",
    "    all_dfs = []\n",
    "    \n",
    "    for (lat, lon) in LOCATIONS:\n",
    "        print(f\"\\n=== Récupération des données pour la localisation({lat}, {lon}) ===\")\n",
    "        \n",
    "        # Récupération des données pour cette localisation\n",
    "        df_location = fetch_weather_data(latitude=lat, longitude=lon)\n",
    "        \n",
    "        if not df_location.empty:\n",
    "            all_dfs.append(df_location)\n",
    "        \n",
    "        # Pause entre les requêtes pour éviter de surcharger l'API\n",
    "        time.sleep(2)\n",
    "    \n",
    "    # Combinaison de tous les DataFrames\n",
    "    final_df2 = pd.concat(all_dfs, ignore_index=True) if all_dfs else pd.DataFrame()\n",
    "    \n",
    "    # Statistiques\n",
    "    if not final_df2.empty:\n",
    "        counts = final_df2[\"latitude\"].value_counts()\n",
    "        print(\"\\n=== Récapitulatif ===\")\n",
    "        print(f\"Total de données récupérées : {len(final_df2)}\")\n",
    "        print(\"Détail par localisation :\")\n",
    "        print(counts.to_string())\n",
    "    \n",
    "    return final_df2"
   ]
  },
  {
   "cell_type": "code",
   "execution_count": 125,
   "id": "3a9f837d-cbad-431c-afaa-43a649a22891",
   "metadata": {},
   "outputs": [
    {
     "name": "stdout",
     "output_type": "stream",
     "text": [
      "\n",
      "=== Récupération des données pour la localisation(48.8566, 2.3522) ===\n",
      "2184 données horaires ajoutées pour (48.8566, 2.3522) (reste 816)\n",
      "864 données horaires ajoutées pour (48.8566, 2.3522) (reste -48)\n"
     ]
    },
    {
     "name": "stderr",
     "output_type": "stream",
     "text": [
      "C:\\Users\\HP\\AppData\\Local\\Temp\\ipykernel_16392\\1417608529.py:47: FutureWarning: The behavior of DataFrame concatenation with empty or all-NA entries is deprecated. In a future version, this will no longer exclude empty or all-NA columns when determining the result dtypes. To retain the old behavior, exclude the relevant entries before the concat operation.\n",
      "  final_df = pd.concat(all_data, ignore_index=True) if all_data else pd.DataFrame()\n"
     ]
    },
    {
     "name": "stdout",
     "output_type": "stream",
     "text": [
      "\n",
      "=== Récupération des données pour la localisation(45.764, 4.8357) ===\n",
      "2184 données horaires ajoutées pour (45.764, 4.8357) (reste 816)\n",
      "864 données horaires ajoutées pour (45.764, 4.8357) (reste -48)\n"
     ]
    },
    {
     "name": "stderr",
     "output_type": "stream",
     "text": [
      "C:\\Users\\HP\\AppData\\Local\\Temp\\ipykernel_16392\\1417608529.py:47: FutureWarning: The behavior of DataFrame concatenation with empty or all-NA entries is deprecated. In a future version, this will no longer exclude empty or all-NA columns when determining the result dtypes. To retain the old behavior, exclude the relevant entries before the concat operation.\n",
      "  final_df = pd.concat(all_data, ignore_index=True) if all_data else pd.DataFrame()\n"
     ]
    },
    {
     "name": "stdout",
     "output_type": "stream",
     "text": [
      "\n",
      "=== Récupération des données pour la localisation(43.2965, 5.3698) ===\n",
      "2184 données horaires ajoutées pour (43.2965, 5.3698) (reste 816)\n",
      "864 données horaires ajoutées pour (43.2965, 5.3698) (reste -48)\n"
     ]
    },
    {
     "name": "stderr",
     "output_type": "stream",
     "text": [
      "C:\\Users\\HP\\AppData\\Local\\Temp\\ipykernel_16392\\1417608529.py:47: FutureWarning: The behavior of DataFrame concatenation with empty or all-NA entries is deprecated. In a future version, this will no longer exclude empty or all-NA columns when determining the result dtypes. To retain the old behavior, exclude the relevant entries before the concat operation.\n",
      "  final_df = pd.concat(all_data, ignore_index=True) if all_data else pd.DataFrame()\n"
     ]
    },
    {
     "name": "stdout",
     "output_type": "stream",
     "text": [
      "\n",
      "=== Récupération des données pour la localisation(44.8378, -0.5792) ===\n",
      "2184 données horaires ajoutées pour (44.8378, -0.5792) (reste 816)\n",
      "864 données horaires ajoutées pour (44.8378, -0.5792) (reste -48)\n"
     ]
    },
    {
     "name": "stderr",
     "output_type": "stream",
     "text": [
      "C:\\Users\\HP\\AppData\\Local\\Temp\\ipykernel_16392\\1417608529.py:47: FutureWarning: The behavior of DataFrame concatenation with empty or all-NA entries is deprecated. In a future version, this will no longer exclude empty or all-NA columns when determining the result dtypes. To retain the old behavior, exclude the relevant entries before the concat operation.\n",
      "  final_df = pd.concat(all_data, ignore_index=True) if all_data else pd.DataFrame()\n"
     ]
    },
    {
     "name": "stdout",
     "output_type": "stream",
     "text": [
      "\n",
      "=== Récapitulatif ===\n",
      "Total de données récupérées : 12000\n",
      "Détail par localisation :\n",
      "latitude\n",
      "48.8566    3000\n",
      "45.7640    3000\n",
      "43.2965    3000\n",
      "44.8378    3000\n"
     ]
    }
   ],
   "source": [
    "df_meteo = collect_all_locations()"
   ]
  },
  {
   "cell_type": "code",
   "execution_count": 126,
   "id": "5b2ec9b3-db43-4640-aba6-ffc3476a6cac",
   "metadata": {},
   "outputs": [
    {
     "name": "stdout",
     "output_type": "stream",
     "text": [
      "<class 'pandas.core.frame.DataFrame'>\n",
      "RangeIndex: 12000 entries, 0 to 11999\n",
      "Data columns (total 8 columns):\n",
      " #   Column                Non-Null Count  Dtype  \n",
      "---  ------                --------------  -----  \n",
      " 0   time                  12000 non-null  object \n",
      " 1   temperature_2m        7392 non-null   float64\n",
      " 2   relative_humidity_2m  7392 non-null   float64\n",
      " 3   precipitation         7392 non-null   float64\n",
      " 4   wind_speed_10m        7392 non-null   float64\n",
      " 5   weather_code          7392 non-null   float64\n",
      " 6   latitude              12000 non-null  float64\n",
      " 7   longitude             12000 non-null  float64\n",
      "dtypes: float64(7), object(1)\n",
      "memory usage: 750.1+ KB\n"
     ]
    }
   ],
   "source": [
    "df_meteo.info()"
   ]
  },
  {
   "cell_type": "code",
   "execution_count": 128,
   "id": "8f7e4287-c11e-4c50-a02c-12bd687bb798",
   "metadata": {},
   "outputs": [],
   "source": [
    "# Enregistrement du DataFrame final dans un fichier CSV\n",
    "df_meteo.to_csv(\"weather_data_extracted.csv\", index=False)"
   ]
  }
 ],
 "metadata": {
  "kernelspec": {
   "display_name": "Python 3 (ipykernel)",
   "language": "python",
   "name": "python3"
  },
  "language_info": {
   "codemirror_mode": {
    "name": "ipython",
    "version": 3
   },
   "file_extension": ".py",
   "mimetype": "text/x-python",
   "name": "python",
   "nbconvert_exporter": "python",
   "pygments_lexer": "ipython3",
   "version": "3.11.5"
  }
 },
 "nbformat": 4,
 "nbformat_minor": 5
}
