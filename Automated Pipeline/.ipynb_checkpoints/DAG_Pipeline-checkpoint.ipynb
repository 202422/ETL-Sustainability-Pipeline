{
 "cells": [
  {
   "cell_type": "markdown",
   "id": "6695c246-7ca6-4d81-8aa4-83816341a52f",
   "metadata": {},
   "source": [
    "# Packages Import"
   ]
  },
  {
   "cell_type": "code",
   "execution_count": null,
   "id": "b9ba8ebf-4cde-4272-935f-a463af639543",
   "metadata": {},
   "outputs": [],
   "source": [
    "pip install reverse_geocoder"
   ]
  },
  {
   "cell_type": "code",
   "execution_count": null,
   "id": "6c904305-30e6-440a-b846-8e91af4af65f",
   "metadata": {},
   "outputs": [],
   "source": [
    "from airflow import DAG\n",
    "from airflow.operators.python import PythonOperator"
   ]
  },
  {
   "cell_type": "code",
   "execution_count": null,
   "id": "84dddd78-405d-4ad3-976e-48dfff3c4760",
   "metadata": {},
   "outputs": [],
   "source": [
    "import utils"
   ]
  },
  {
   "cell_type": "markdown",
   "id": "d03e3e11-65d4-4dd7-ac08-b7f608c2d30c",
   "metadata": {},
   "source": [
    "# DAG Design"
   ]
  },
  {
   "cell_type": "code",
   "execution_count": null,
   "id": "df4b5297-6730-41e1-9a49-96c39101d172",
   "metadata": {},
   "outputs": [],
   "source": [
    "# Define default arguments for the DAG\n",
    "default_args = {\n",
    "    'owner': 'airflow',\n",
    "    'depends_on_past': False,\n",
    "    'email_on_failure': False,\n",
    "    'email_on_retry': False,\n",
    "    'retries': 1,\n",
    "}"
   ]
  },
  {
   "cell_type": "code",
   "execution_count": null,
   "id": "bf758b1c-729f-4ad6-8663-9d75ce39d4cb",
   "metadata": {},
   "outputs": [],
   "source": [
    "# Define the DAG\n",
    "with DAG(\n",
    "    \"sustainability_data_pipeline\",\n",
    "    default_args=default_args,\n",
    "    description='Sustainability Data Pipeline',\n",
    "    schedule_interval='@daily',  # Runs daily\n",
    "    start_date=datetime(2025, 7, 1),\n",
    "    catchup=False,\n",
    ") as dag:\n",
    "\n",
    "    # 1. Extract Task\n",
    "    extract_task = PythonOperator(\n",
    "        task_id='extract',\n",
    "        python_callable=utils.Extract_main\n",
    "    )\n",
    "\n",
    "    # 2. Clean Task\n",
    "    clean_task = PythonOperator(\n",
    "        task_id='clean',\n",
    "        python_callable=utils.Cleaning_main\n",
    "    )\n",
    "\n",
    "    # 3. Transform Task\n",
    "    transform_task = PythonOperator(\n",
    "        task_id='transform',\n",
    "        python_callable=utils.transform_main\n",
    "    )\n",
    "\n",
    "    # 4. Load Task\n",
    "    load_task = PythonOperator(\n",
    "        task_id='load',\n",
    "        python_callable=utils.Load_main\n",
    "    )\n",
    "\n",
    "    # Set task dependencies (ETL flow)\n",
    "    extract_task >> clean_task >> transform_task >> load_task"
   ]
  }
 ],
 "metadata": {
  "kernelspec": {
   "display_name": "Python 3 (ipykernel)",
   "language": "python",
   "name": "python3"
  },
  "language_info": {
   "codemirror_mode": {
    "name": "ipython",
    "version": 3
   },
   "file_extension": ".py",
   "mimetype": "text/x-python",
   "name": "python",
   "nbconvert_exporter": "python",
   "pygments_lexer": "ipython3",
   "version": "3.11.5"
  }
 },
 "nbformat": 4,
 "nbformat_minor": 5
}
